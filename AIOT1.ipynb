{
  "nbformat": 4,
  "nbformat_minor": 0,
  "metadata": {
    "colab": {
      "provenance": [],
      "toc_visible": true,
      "authorship_tag": "ABX9TyOZGqBf+zuDpVqMz+prgDTB",
      "include_colab_link": true
    },
    "kernelspec": {
      "name": "python3",
      "display_name": "Python 3"
    },
    "language_info": {
      "name": "python"
    }
  },
  "cells": [
    {
      "cell_type": "markdown",
      "metadata": {
        "id": "view-in-github",
        "colab_type": "text"
      },
      "source": [
        "<a href=\"https://colab.research.google.com/github/ratheesh-17/AIOT/blob/main/AIOT1.ipynb\" target=\"_parent\"><img src=\"https://colab.research.google.com/assets/colab-badge.svg\" alt=\"Open In Colab\"/></a>"
      ]
    },
    {
      "cell_type": "code",
      "execution_count": 21,
      "metadata": {
        "colab": {
          "base_uri": "https://localhost:8080/"
        },
        "id": "gfCXCMcLEw7G",
        "outputId": "782f9540-5603-4928-d00a-45d075363c99"
      },
      "outputs": [
        {
          "output_type": "stream",
          "name": "stdout",
          "text": [
            "✅ SUCCESS: Able to reach broker.hivemq.com:1883\n"
          ]
        }
      ],
      "source": [
        "import socket\n",
        "def check_mqtt_broker(host=\"broker.hivemq.com\", port=1883):\n",
        "  sock = socket.socket(socket.AF_INET, socket.SOCK_STREAM)\n",
        "  sock.settimeout(5)\n",
        "  result = sock.connect_ex((host, port))\n",
        "  if result == 0:\n",
        "    print(f\"✅ SUCCESS: Able to reach {host}:{port}\")\n",
        "  else:\n",
        "    print(f\"❌ FAILURE: Cannot reach {host}:{port} — check firewall or network\")\n",
        "  sock.close()\n",
        "check_mqtt_broker()"
      ]
    },
    {
      "cell_type": "code",
      "source": [
        "import paho.mqtt.client as mqtt\n",
        "import random\n",
        "import time\n",
        "\n",
        "broker = \"broker.hivemq.com\"\n",
        "port = 1883\n",
        "topic = \"aiot/lab1/sensordata\"\n",
        "client = mqtt.Client()\n",
        "try:\n",
        "  client.connect(broker, port, 60)\n",
        "  client.loop_start()\n",
        "  print(\"Connected to broker:\", broker)\n",
        "except Exception as e:\n",
        "  print(\"Connection error:\", e)\n",
        "for _ in range(5):\n",
        "  temperature = round(random.uniform(20.0, 30.0), 2)\n",
        "  humidity = round(random.uniform(40.0, 60.0), 2)\n",
        "  payload = f\"Temperature: {temperature} °C, Humidity: {humidity}\";\n",
        "  try:\n",
        "    result = client.publish(topic, payload)\n",
        "    status = result[0]\n",
        "    if status == 0:\n",
        "      print(\"Published:\", payload)\n",
        "    else:\n",
        "      print(\"Failed to publish. Status:\", status)\n",
        "  except Exception as e:\n",
        "    print(\"Publishing error:\", e)\n",
        "  time.sleep(3)\n",
        "client.loop_stop()\n",
        "client.disconnect()"
      ],
      "metadata": {
        "colab": {
          "base_uri": "https://localhost:8080/"
        },
        "id": "Pr1xGRMMFH2G",
        "outputId": "06d3c41d-7c67-491a-ee61-4bc7ce53a2a9"
      },
      "execution_count": 27,
      "outputs": [
        {
          "output_type": "stream",
          "name": "stderr",
          "text": [
            "/tmp/ipython-input-3758775692.py:8: DeprecationWarning: Callback API version 1 is deprecated, update to latest version\n",
            "  client = mqtt.Client()\n"
          ]
        },
        {
          "output_type": "stream",
          "name": "stdout",
          "text": [
            "Connected to broker: broker.hivemq.com\n",
            "Published: Temperature: 20.22 °C, Humidity: 51.94\n",
            "Published: Temperature: 26.92 °C, Humidity: 44.61\n",
            "Published: Temperature: 26.9 °C, Humidity: 55.36\n",
            "Received message: Temperature: 20.22 °C, Humidity: 51.94\n",
            "Received message: Temperature: 26.92 °C, Humidity: 44.61\n",
            "Received message: Temperature: 26.9 °C, Humidity: 55.36\n",
            "Received message: Temperature: 20.22 °C, Humidity: 51.94\n",
            "Received message: Temperature: 26.92 °C, Humidity: 44.61\n",
            "Received message: Temperature: 26.9 °C, Humidity: 55.36\n",
            "Received message: Temperature: 20.22 °C, Humidity: 51.94\n",
            "Received message: Temperature: 26.92 °C, Humidity: 44.61\n",
            "Received message: Temperature: 26.9 °C, Humidity: 55.36\n",
            "Received message: Temperature: 20.22 °C, Humidity: 51.94\n",
            "Received message: Temperature: 26.92 °C, Humidity: 44.61\n",
            "Received message: Temperature: 26.9 °C, Humidity: 55.36\n",
            "Received message: Temperature: 20.22 °C, Humidity: 51.94\n",
            "Received message: Temperature: 26.92 °C, Humidity: 44.61\n",
            "Received message: Temperature: 26.9 °C, Humidity: 55.36\n",
            "Received message: Temperature: 20.22 °C, Humidity: 51.94\n",
            "Received message: Temperature: 26.92 °C, Humidity: 44.61\n",
            "Received message: Temperature: 26.9 °C, Humidity: 55.36\n",
            "Received message: Temperature: 20.22 °C, Humidity: 51.94\n",
            "Received message: Temperature: 26.92 °C, Humidity: 44.61\n",
            "Received message: Temperature: 26.9 °C, Humidity: 55.36\n",
            "Published: Temperature: 23.57 °C, Humidity: 53.26\n",
            "Received message: Temperature: 23.57 °C, Humidity: 53.26\n",
            "Received message: Temperature: 23.57 °C, Humidity: 53.26\n",
            "Received message: Temperature: 23.57 °C, Humidity: 53.26\n",
            "Received message: Temperature: 23.57 °C, Humidity: 53.26\n",
            "Received message: Temperature: 23.57 °C, Humidity: 53.26\n",
            "Received message: Temperature: 23.57 °C, Humidity: 53.26\n",
            "Received message: Temperature: 23.57 °C, Humidity: 53.26\n",
            "Published: Temperature: 23.53 °C, Humidity: 49.25\n",
            "Received message: Temperature: 23.53 °C, Humidity: 49.25\n",
            "Received message: Temperature: 23.53 °C, Humidity: 49.25\n",
            "Received message: Temperature: 23.53 °C, Humidity: 49.25\n",
            "Received message: Temperature: 23.53 °C, Humidity: 49.25\n",
            "Received message: Temperature: 23.53 °C, Humidity: 49.25\n",
            "Received message: Temperature: 23.53 °C, Humidity: 49.25\n",
            "Received message: Temperature: 23.53 °C, Humidity: 49.25\n"
          ]
        },
        {
          "output_type": "execute_result",
          "data": {
            "text/plain": [
              "<MQTTErrorCode.MQTT_ERR_SUCCESS: 0>"
            ]
          },
          "metadata": {},
          "execution_count": 27
        }
      ]
    },
    {
      "cell_type": "code",
      "source": [
        "import paho.mqtt.client as mqtt\n",
        "broker = \"broker.hivemq.com\"\n",
        "port = 1883\n",
        "topic = \"aiot/lab1/sensordata\"\n",
        "\n",
        "def on_connect(client, userdata, flags, rc):\n",
        "  if rc == 0:\n",
        "    print(\"Connected to broker\")\n",
        "    client.subscribe(topic)\n",
        "  else:\n",
        "    print(\"Failed to connect, return code:\", rc)\n",
        "def on_message(client, userdata, msg):\n",
        "  print(\"Received message:\", msg.payload.decode())\n",
        "client = mqtt.Client()\n",
        "client.on_connect = on_connect\n",
        "client.on_message = on_message\n",
        "try:\n",
        "  client.connect(broker, port, 60)\n",
        "  client.loop_start()\n",
        "except Exception as e:\n",
        "  print(\"Subscriber connection error:\", e)"
      ],
      "metadata": {
        "colab": {
          "base_uri": "https://localhost:8080/"
        },
        "id": "NyJevpoQHQq2",
        "outputId": "75d0c5a3-c99e-44c3-c868-088e29fcebb7"
      },
      "execution_count": 28,
      "outputs": [
        {
          "output_type": "stream",
          "name": "stderr",
          "text": [
            "/tmp/ipython-input-2262158842.py:14: DeprecationWarning: Callback API version 1 is deprecated, update to latest version\n",
            "  client = mqtt.Client()\n"
          ]
        }
      ]
    }
  ]
}